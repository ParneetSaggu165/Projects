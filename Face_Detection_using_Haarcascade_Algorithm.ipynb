{
  "cells": [
    {
      "cell_type": "code",
      "execution_count": 26,
      "metadata": {
        "id": "MQAy4BBzFg9J"
      },
      "outputs": [],
      "source": [
        "import cv2\n",
        "import os"
      ]
    },
    {
      "cell_type": "code",
      "execution_count": 3,
      "metadata": {
        "id": "N6M5PuYnIyHt"
      },
      "outputs": [],
      "source": [
        "xml_file_path = 'haarcascade_frontalface_default.xml'"
      ]
    },
    {
      "cell_type": "code",
      "execution_count": 4,
      "metadata": {
        "id": "UrBUs4-tI99p"
      },
      "outputs": [],
      "source": [
        "face_cascade = cv2.CascadeClassifier('xml_file_path')"
      ]
    },
    {
      "cell_type": "code",
      "execution_count": 5,
      "metadata": {
        "id": "kMjJMjbNGJrj"
      },
      "outputs": [],
      "source": [
        "cap = cv2.VideoCapture('20231219_095937.mp4')"
      ]
    },
    {
      "cell_type": "code",
      "execution_count": 6,
      "metadata": {
        "id": "b5qbgPbSGcI7"
      },
      "outputs": [],
      "source": [
        "output_dir = 'Untitled Folder'\n",
        "os.makedirs(output_dir, exist_ok = True)"
      ]
    },
    {
      "cell_type": "code",
      "execution_count": 7,
      "metadata": {
        "id": "ZapGp5IfKxew"
      },
      "outputs": [],
      "source": [
        "fourcc = cv2.VideoWriter_fourcc(*'XVID')\n",
        "output_video = cv2.VideoWriter('printed_video.avi', fourcc, 20.0, (int(cap.get(3)), int(cap.get(4))))"
      ]
    },
    {
      "cell_type": "code",
      "execution_count": 20,
      "metadata": {
        "id": "tYPJ-rB5ISaL"
      },
      "outputs": [],
      "source": [
        "saved_faces = set()\n",
        "\n",
        "while True:\n",
        "  ret, frame = cap.read()\n",
        "  if not ret:\n",
        "    break\n",
        "  gray = cv2.cvtColor(frame, cv2.COLOR_BGR2GRAY)\n",
        "  faces = face_cascade.detectMultiScale(gray, scaleFactor = 1.1, minNeighbors = 9, minSize = (30, 30))\n",
        "  largest_face = None\n",
        "  largest_area = 0\n",
        "  for (x, y, w , h) in faces:\n",
        "    area = w * h\n",
        "    if area > largest_area:\n",
        "      largest_area = area\n",
        "      largest_face = (x, y, w , h)\n",
        "    if largest_face is not None:\n",
        "      x, y, w , h = largest_face\n",
        "      face = frame[y:y+h, x:x+w]\n",
        "      if tuple(largest_face) not in saved_faces:\n",
        "        face_filename = os.path.join(output_dir, f'face_{len(saved_faces)}.jpg')\n",
        "        cv2.imwrite(face_filename, face)\n",
        "        saved_faces.add(tuple(largest_face))\n",
        "        cv2.rectangle(frame, (x,y), (x+w, y+h), (0, 255, 0), 2)\n",
        "    output_video.write(frame)\n",
        "    if cv2.waitKey(1) & 0xFF == ord('q'):\n",
        "      break"
      ]
    }
  ],
  "metadata": {
    "colab": {
      "provenance": []
    },
    "kernelspec": {
      "display_name": "Python 3",
      "name": "python3"
    },
    "language_info": {
      "name": "python"
    }
  },
  "nbformat": 4,
  "nbformat_minor": 0
}