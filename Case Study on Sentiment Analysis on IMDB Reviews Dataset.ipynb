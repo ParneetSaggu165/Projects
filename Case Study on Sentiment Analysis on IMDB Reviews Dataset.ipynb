{
 "cells": [
  {
   "cell_type": "code",
   "execution_count": 1,
   "id": "04642228",
   "metadata": {},
   "outputs": [
    {
     "name": "stdout",
     "output_type": "stream",
     "text": [
      "WARNING:tensorflow:From C:\\Users\\HP\\anaconda3\\Lib\\site-packages\\keras\\src\\losses.py:2976: The name tf.losses.sparse_softmax_cross_entropy is deprecated. Please use tf.compat.v1.losses.sparse_softmax_cross_entropy instead.\n",
      "\n"
     ]
    }
   ],
   "source": [
    "import numpy as np\n",
    "from tensorflow.keras.datasets import imdb\n",
    "from tensorflow.keras.models import Sequential\n",
    "from tensorflow.keras.layers import Dense, Embedding, Flatten\n",
    "from tensorflow.keras.preprocessing.sequence import pad_sequences\n",
    "from tensorflow.keras.preprocessing.text import Tokenizer\n",
    "from tensorflow.keras.layers import Dropout"
   ]
  },
  {
   "cell_type": "code",
   "execution_count": 2,
   "id": "bee9e9e0",
   "metadata": {},
   "outputs": [],
   "source": [
    "num_words = 60000\n",
    "(X_train, y_train), (X_test, y_test) = imdb.load_data(num_words = num_words)"
   ]
  },
  {
   "cell_type": "code",
   "execution_count": 3,
   "id": "58a92bde",
   "metadata": {},
   "outputs": [],
   "source": [
    "word_index = imdb.get_word_index()"
   ]
  },
  {
   "cell_type": "code",
   "execution_count": 4,
   "id": "e0ad4dad",
   "metadata": {},
   "outputs": [],
   "source": [
    "reverse_word_index = dict([(value, key) for (key, value) in word_index.items()])"
   ]
  },
  {
   "cell_type": "code",
   "execution_count": 5,
   "id": "e91ee1c9",
   "metadata": {},
   "outputs": [],
   "source": [
    "def decode_review(review):\n",
    "    return ' '.join([reverse_word_index.get(i - 3, '?') for i in review])"
   ]
  },
  {
   "cell_type": "code",
   "execution_count": 6,
   "id": "71ff134d",
   "metadata": {},
   "outputs": [
    {
     "data": {
      "text/plain": [
       "array([[    0,     0,     0, ...,    19,   178,    32],\n",
       "       [    0,     0,     0, ...,    16,   145,    95],\n",
       "       [    0,     0,     0, ...,     7,   129,   113],\n",
       "       ...,\n",
       "       [    0,     0,     0, ...,     4,  3586, 22459],\n",
       "       [    0,     0,     0, ...,    12,     9,    23],\n",
       "       [    0,     0,     0, ...,   204,   131,     9]])"
      ]
     },
     "execution_count": 6,
     "metadata": {},
     "output_type": "execute_result"
    }
   ],
   "source": [
    "max_length = 300\n",
    "X_train = pad_sequences(X_train, maxlen = max_length)\n",
    "X_test = pad_sequences(X_test, maxlen = max_length)\n",
    "X_train"
   ]
  },
  {
   "cell_type": "code",
   "execution_count": 7,
   "id": "98236b0d",
   "metadata": {},
   "outputs": [
    {
     "name": "stdout",
     "output_type": "stream",
     "text": [
      "WARNING:tensorflow:From C:\\Users\\HP\\anaconda3\\Lib\\site-packages\\keras\\src\\backend.py:873: The name tf.get_default_graph is deprecated. Please use tf.compat.v1.get_default_graph instead.\n",
      "\n"
     ]
    }
   ],
   "source": [
    "embedding_dim = 100\n",
    "model = Sequential([\n",
    "    Embedding(input_dim=num_words, output_dim=embedding_dim, input_length=max_length), Flatten(), \n",
    "    Dense(units=128, activation='relu'), Dropout(0.5), Dense(units=1, activation='sigmoid') \n",
    "])"
   ]
  },
  {
   "cell_type": "code",
   "execution_count": 8,
   "id": "a87f01c5",
   "metadata": {},
   "outputs": [
    {
     "name": "stdout",
     "output_type": "stream",
     "text": [
      "WARNING:tensorflow:From C:\\Users\\HP\\anaconda3\\Lib\\site-packages\\keras\\src\\optimizers\\__init__.py:309: The name tf.train.Optimizer is deprecated. Please use tf.compat.v1.train.Optimizer instead.\n",
      "\n"
     ]
    }
   ],
   "source": [
    "model.compile(optimizer='adam', loss='binary_crossentropy', metrics=['accuracy'])"
   ]
  },
  {
   "cell_type": "code",
   "execution_count": 9,
   "id": "66040d71",
   "metadata": {},
   "outputs": [
    {
     "name": "stdout",
     "output_type": "stream",
     "text": [
      "Model: \"sequential\"\n",
      "_________________________________________________________________\n",
      " Layer (type)                Output Shape              Param #   \n",
      "=================================================================\n",
      " embedding (Embedding)       (None, 300, 100)          6000000   \n",
      "                                                                 \n",
      " flatten (Flatten)           (None, 30000)             0         \n",
      "                                                                 \n",
      " dense (Dense)               (None, 128)               3840128   \n",
      "                                                                 \n",
      " dropout (Dropout)           (None, 128)               0         \n",
      "                                                                 \n",
      " dense_1 (Dense)             (None, 1)                 129       \n",
      "                                                                 \n",
      "=================================================================\n",
      "Total params: 9840257 (37.54 MB)\n",
      "Trainable params: 9840257 (37.54 MB)\n",
      "Non-trainable params: 0 (0.00 Byte)\n",
      "_________________________________________________________________\n"
     ]
    }
   ],
   "source": [
    "model.summary()"
   ]
  },
  {
   "cell_type": "code",
   "execution_count": 10,
   "id": "c866d2b3",
   "metadata": {},
   "outputs": [
    {
     "name": "stdout",
     "output_type": "stream",
     "text": [
      "Epoch 1/10\n",
      "WARNING:tensorflow:From C:\\Users\\HP\\anaconda3\\Lib\\site-packages\\keras\\src\\utils\\tf_utils.py:492: The name tf.ragged.RaggedTensorValue is deprecated. Please use tf.compat.v1.ragged.RaggedTensorValue instead.\n",
      "\n",
      "WARNING:tensorflow:From C:\\Users\\HP\\anaconda3\\Lib\\site-packages\\keras\\src\\engine\\base_layer_utils.py:384: The name tf.executing_eagerly_outside_functions is deprecated. Please use tf.compat.v1.executing_eagerly_outside_functions instead.\n",
      "\n",
      "704/704 [==============================] - 91s 128ms/step - loss: 0.3986 - accuracy: 0.8035 - val_loss: 0.3034 - val_accuracy: 0.8768\n",
      "Epoch 2/10\n",
      "704/704 [==============================] - 89s 127ms/step - loss: 0.0589 - accuracy: 0.9806 - val_loss: 0.3780 - val_accuracy: 0.8700\n",
      "Epoch 3/10\n",
      "704/704 [==============================] - 90s 128ms/step - loss: 0.0030 - accuracy: 0.9995 - val_loss: 0.5003 - val_accuracy: 0.8708\n",
      "Epoch 4/10\n",
      "704/704 [==============================] - 91s 130ms/step - loss: 4.9273e-04 - accuracy: 1.0000 - val_loss: 0.5315 - val_accuracy: 0.8760\n",
      "Epoch 5/10\n",
      "704/704 [==============================] - 91s 129ms/step - loss: 1.4782e-04 - accuracy: 1.0000 - val_loss: 0.5535 - val_accuracy: 0.8776\n",
      "Epoch 6/10\n",
      "704/704 [==============================] - 89s 127ms/step - loss: 7.3619e-05 - accuracy: 1.0000 - val_loss: 0.5795 - val_accuracy: 0.8772\n",
      "Epoch 7/10\n",
      "704/704 [==============================] - 96s 136ms/step - loss: 4.7106e-05 - accuracy: 1.0000 - val_loss: 0.5997 - val_accuracy: 0.8764\n",
      "Epoch 8/10\n",
      "704/704 [==============================] - 90s 128ms/step - loss: 3.1328e-05 - accuracy: 1.0000 - val_loss: 0.6206 - val_accuracy: 0.8784\n",
      "Epoch 9/10\n",
      "704/704 [==============================] - 90s 127ms/step - loss: 1.9229e-05 - accuracy: 1.0000 - val_loss: 0.6344 - val_accuracy: 0.8796\n",
      "Epoch 10/10\n",
      "704/704 [==============================] - 93s 132ms/step - loss: 1.5918e-05 - accuracy: 1.0000 - val_loss: 0.6543 - val_accuracy: 0.8796\n"
     ]
    },
    {
     "data": {
      "text/plain": [
       "<keras.src.callbacks.History at 0x22e1f177850>"
      ]
     },
     "execution_count": 10,
     "metadata": {},
     "output_type": "execute_result"
    }
   ],
   "source": [
    "model.fit(X_train, y_train, epochs=10, batch_size=32, validation_split=0.1)"
   ]
  },
  {
   "cell_type": "code",
   "execution_count": 11,
   "id": "d1847062",
   "metadata": {},
   "outputs": [
    {
     "name": "stdout",
     "output_type": "stream",
     "text": [
      "782/782 [==============================] - 3s 4ms/step - loss: 0.6654 - accuracy: 0.8668\n",
      "Test Accuracy 0.8668000102043152\n"
     ]
    }
   ],
   "source": [
    "test_loss, test_accuracy = model.evaluate(X_test, y_test)\n",
    "print(\"Test Accuracy\", test_accuracy)"
   ]
  },
  {
   "cell_type": "code",
   "execution_count": 12,
   "id": "56688969",
   "metadata": {},
   "outputs": [
    {
     "name": "stdout",
     "output_type": "stream",
     "text": [
      "782/782 [==============================] - 3s 4ms/step - loss: 0.0654 - accuracy: 0.9880\n",
      "Train Accuracy 0.9879599809646606\n"
     ]
    }
   ],
   "source": [
    "train_loss, train_accuracy = model.evaluate(X_train, y_train)\n",
    "print(\"Train Accuracy\", train_accuracy)"
   ]
  },
  {
   "cell_type": "code",
   "execution_count": 13,
   "id": "1d960bf1",
   "metadata": {},
   "outputs": [],
   "source": [
    "tokenizer = Tokenizer(num_words=num_words)\n",
    "tokenizer.fit_on_texts(reverse_word_index.values())"
   ]
  },
  {
   "cell_type": "code",
   "execution_count": 14,
   "id": "8bd13cf0",
   "metadata": {},
   "outputs": [],
   "source": [
    "def preprocess_input(review):\n",
    "    review = review.lower()\n",
    "    review = review.split()\n",
    "    review = [tokenizer.word_index.get(word, 2) for word in review]  # Use tokenizer\n",
    "    review = pad_sequences([review], maxlen=max_length)\n",
    "    return review"
   ]
  },
  {
   "cell_type": "code",
   "execution_count": 15,
   "id": "433cdfe9",
   "metadata": {},
   "outputs": [
    {
     "name": "stdout",
     "output_type": "stream",
     "text": [
      "Enter your movie review: Would watch again\n"
     ]
    }
   ],
   "source": [
    "user_review = input(\"Enter your movie review: \")"
   ]
  },
  {
   "cell_type": "code",
   "execution_count": 16,
   "id": "816039a9",
   "metadata": {},
   "outputs": [],
   "source": [
    "user_review = preprocess_input(user_review)"
   ]
  },
  {
   "cell_type": "code",
   "execution_count": 17,
   "id": "330da8de",
   "metadata": {},
   "outputs": [
    {
     "name": "stdout",
     "output_type": "stream",
     "text": [
      "1/1 [==============================] - 0s 69ms/step\n"
     ]
    }
   ],
   "source": [
    "predicted_sentiment = model.predict(user_review)[0][0]"
   ]
  },
  {
   "cell_type": "code",
   "execution_count": 18,
   "id": "5ceff2c1",
   "metadata": {},
   "outputs": [
    {
     "name": "stdout",
     "output_type": "stream",
     "text": [
      "Predicted Sentiment: Positive\n"
     ]
    }
   ],
   "source": [
    "if predicted_sentiment >= 0.5:\n",
    "    print(\"Predicted Sentiment: Positive\")\n",
    "else:\n",
    "    print(\"Predicted Sentiment: Negative\")"
   ]
  }
 ],
 "metadata": {
  "kernelspec": {
   "display_name": "Python 3 (ipykernel)",
   "language": "python",
   "name": "python3"
  },
  "language_info": {
   "codemirror_mode": {
    "name": "ipython",
    "version": 3
   },
   "file_extension": ".py",
   "mimetype": "text/x-python",
   "name": "python",
   "nbconvert_exporter": "python",
   "pygments_lexer": "ipython3",
   "version": "3.11.3"
  }
 },
 "nbformat": 4,
 "nbformat_minor": 5
}
